{
 "cells": [
  {
   "cell_type": "code",
   "execution_count": 40,
   "metadata": {},
   "outputs": [],
   "source": [
    "import sympy as sym\n",
    "import dill\n",
    "from os import path\n",
    "import numpy as np\n",
    "import os\n",
    "import pickle\n",
    "import gzip\n",
    "\n",
    "from data_utils import generate_data\n"
   ]
  },
  {
   "cell_type": "markdown",
   "metadata": {},
   "source": [
    "# Test"
   ]
  },
  {
   "cell_type": "code",
   "execution_count": 15,
   "metadata": {},
   "outputs": [],
   "source": [
    "a, b = sym.symbols(\"a, b\")\n",
    "expr = sym.sin(a) + sym.cos(b)\n",
    "f1 = sym.lambdify((a, b), expr, modules=\"numpy\")"
   ]
  },
  {
   "cell_type": "code",
   "execution_count": 4,
   "metadata": {},
   "outputs": [],
   "source": [
    "dill.settings['recurse'] = True\n",
    "dill.dump(f1, open(\"myfile\", \"wb\"))"
   ]
  },
  {
   "cell_type": "code",
   "execution_count": 7,
   "metadata": {},
   "outputs": [],
   "source": [
    "f2 = dill.load(open(\"myfile\", \"rb\"))"
   ]
  },
  {
   "cell_type": "code",
   "execution_count": 8,
   "metadata": {},
   "outputs": [
    {
     "data": {
      "text/plain": [
       "-0.2750268284872752"
      ]
     },
     "execution_count": 8,
     "metadata": {},
     "output_type": "execute_result"
    }
   ],
   "source": [
    "f2(3,2)"
   ]
  },
  {
   "cell_type": "code",
   "execution_count": 11,
   "metadata": {},
   "outputs": [
    {
     "data": {
      "text/plain": [
       "<function _lambdifygenerated(a, b)>"
      ]
     },
     "execution_count": 11,
     "metadata": {},
     "output_type": "execute_result"
    }
   ],
   "source": [
    "f1"
   ]
  },
  {
   "cell_type": "markdown",
   "metadata": {},
   "source": [
    "# Extract equation"
   ]
  },
  {
   "cell_type": "code",
   "execution_count": 13,
   "metadata": {},
   "outputs": [],
   "source": [
    "save_path = 'results/1'"
   ]
  },
  {
   "cell_type": "code",
   "execution_count": 21,
   "metadata": {},
   "outputs": [],
   "source": [
    "result_exp = dill.load(open(path.join(save_path, 'sym_y' + '0'), \"rb\"))"
   ]
  },
  {
   "cell_type": "code",
   "execution_count": 24,
   "metadata": {},
   "outputs": [],
   "source": [
    "a = result_exp.split(\"\\n\")\n",
    "expr = sym.sympify(a[0])\n",
    "var = sym.sympify(a[1])"
   ]
  },
  {
   "cell_type": "code",
   "execution_count": 31,
   "metadata": {},
   "outputs": [
    {
     "data": {
      "text/latex": [
       "$\\displaystyle - 0.334780060566978 x_{3} x_{4} + 0.334446882513782 \\sin{\\left(3.1425929069519 x_{1} \\right)} + 0.784025678409106 \\sin{\\left(0.432340711355209 x_{2} \\right)} + 0.332726830789688 \\cos{\\left(6.2939133644104 x_{2} - 1.17655837535858 \\right)} - 0.000385077821833126$"
      ],
      "text/plain": [
       "-0.334780060566978*x_3*x_4 + 0.334446882513782*sin(3.1425929069519*x_1) + 0.784025678409106*sin(0.432340711355209*x_2) + 0.332726830789688*cos(6.2939133644104*x_2 - 1.17655837535858) - 0.000385077821833126"
      ]
     },
     "execution_count": 31,
     "metadata": {},
     "output_type": "execute_result"
    }
   ],
   "source": [
    "expr"
   ]
  },
  {
   "cell_type": "code",
   "execution_count": 30,
   "metadata": {},
   "outputs": [
    {
     "data": {
      "text/plain": [
       "-1.5498051237696138"
      ]
     },
     "execution_count": 30,
     "metadata": {},
     "output_type": "execute_result"
    }
   ],
   "source": [
    "l_expr = sym.lambdify(var, expr, modules=\"numpy\")\n",
    "l_expr(1,1,2,3)"
   ]
  },
  {
   "cell_type": "markdown",
   "metadata": {},
   "source": [
    "# Generate input files: train and test"
   ]
  },
  {
   "cell_type": "code",
   "execution_count": 37,
   "metadata": {},
   "outputs": [],
   "source": [
    "data_gen_params = {'file_name': 'F1data',  # file name for the generated data file, will be created in data/file_name\n",
    "                   'fn_to_learn': 'F1',  # python function to learn, should be defined in data_utils\n",
    "                   'train_val_examples': 10000,  # total number of examples for training and validation\n",
    "                   'train_val_bounds': (-1.0, 1.0),  # domain boundaries for validation and training normal epochs\n",
    "                   'test_examples': 5000,  # number of test examples, if set to None no test_data file is created\n",
    "                   'test_bounds': (-2.0, 2.0),  # domain boundaries for test data\n",
    "                   'noise': 0.01,\n",
    "                   'seed': None\n",
    "                   }"
   ]
  },
  {
   "cell_type": "code",
   "execution_count": 38,
   "metadata": {},
   "outputs": [],
   "source": [
    "def F1(x1, x2, x3, x4):\n",
    "    \"\"\"Requires 1 hidden layer.\"\"\"\n",
    "    y0 = (np.sin(np.pi * x1) + np.sin(2 * np.pi * x2 + np.pi / 8.0) + x2 - x3 * x4) / 3.0\n",
    "    return y0,"
   ]
  },
  {
   "cell_type": "code",
   "execution_count": 41,
   "metadata": {},
   "outputs": [
    {
     "name": "stdout",
     "output_type": "stream",
     "text": [
      "Successfully created train/val data file in data/F1data_train_val.\n"
     ]
    }
   ],
   "source": [
    "fn_to_learn = F1\n",
    "if not os.path.exists('data'):\n",
    "    os.mkdir('data')\n",
    "train_val_set = generate_data(fn=fn_to_learn, num_examples=data_gen_params[\"train_val_examples\"], bounds=data_gen_params[\"train_val_bounds\"], noise=data_gen_params[\"noise\"],\n",
    "                                seed=data_gen_params[\"seed\"])\n",
    "train_val_data_file = os.path.join('data', data_gen_params[\"file_name\"] + '_train_val')\n",
    "pickle.dump(train_val_set, gzip.open(train_val_data_file, \"wb\"))\n",
    "print('Successfully created train/val data file in %s.' % train_val_data_file)"
   ]
  },
  {
   "cell_type": "code",
   "execution_count": 44,
   "metadata": {},
   "outputs": [
    {
     "name": "stdout",
     "output_type": "stream",
     "text": [
      "Successfully created test data file in data/F1data_test.\n"
     ]
    }
   ],
   "source": [
    "test_set = generate_data(fn=fn_to_learn, num_examples=data_gen_params[\"test_examples\"], bounds=data_gen_params[\"test_bounds\"], noise=data_gen_params[\"noise\"],\n",
    "                                seed=data_gen_params[\"seed\"])\n",
    "test_data_file = os.path.join('data', data_gen_params[\"file_name\"] + '_test')\n",
    "pickle.dump(test_set, gzip.open(test_data_file, \"wb\"))\n",
    "print('Successfully created test data file in %s.' % test_data_file)"
   ]
  },
  {
   "cell_type": "code",
   "execution_count": 47,
   "metadata": {},
   "outputs": [
    {
     "name": "stdout",
     "output_type": "stream",
     "text": [
      "/home/kxu9/NN/env37/lib/python3.7/site-packages/tensorflow/python/framework/dtypes.py:526: FutureWarning: Passing (type, 1) or '1type' as a synonym of type is deprecated; in a future version of numpy, it will be understood as (type, (1,)) / '(1,)type'.\n",
      "  _np_qint8 = np.dtype([(\"qint8\", np.int8, 1)])\n",
      "/home/kxu9/NN/env37/lib/python3.7/site-packages/tensorflow/python/framework/dtypes.py:527: FutureWarning: Passing (type, 1) or '1type' as a synonym of type is deprecated; in a future version of numpy, it will be understood as (type, (1,)) / '(1,)type'.\n",
      "  _np_quint8 = np.dtype([(\"quint8\", np.uint8, 1)])\n",
      "/home/kxu9/NN/env37/lib/python3.7/site-packages/tensorflow/python/framework/dtypes.py:528: FutureWarning: Passing (type, 1) or '1type' as a synonym of type is deprecated; in a future version of numpy, it will be understood as (type, (1,)) / '(1,)type'.\n",
      "  _np_qint16 = np.dtype([(\"qint16\", np.int16, 1)])\n",
      "/home/kxu9/NN/env37/lib/python3.7/site-packages/tensorflow/python/framework/dtypes.py:529: FutureWarning: Passing (type, 1) or '1type' as a synonym of type is deprecated; in a future version of numpy, it will be understood as (type, (1,)) / '(1,)type'.\n",
      "  _np_quint16 = np.dtype([(\"quint16\", np.uint16, 1)])\n",
      "/home/kxu9/NN/env37/lib/python3.7/site-packages/tensorflow/python/framework/dtypes.py:530: FutureWarning: Passing (type, 1) or '1type' as a synonym of type is deprecated; in a future version of numpy, it will be understood as (type, (1,)) / '(1,)type'.\n",
      "  _np_qint32 = np.dtype([(\"qint32\", np.int32, 1)])\n",
      "/home/kxu9/NN/env37/lib/python3.7/site-packages/tensorflow/python/framework/dtypes.py:535: FutureWarning: Passing (type, 1) or '1type' as a synonym of type is deprecated; in a future version of numpy, it will be understood as (type, (1,)) / '(1,)type'.\n",
      "  np_resource = np.dtype([(\"resource\", np.ubyte, 1)])\n",
      "INFO:tensorflow:Using config: {'_model_dir': 'results/1', '_tf_random_seed': None, '_save_summary_steps': 1000, '_save_checkpoints_steps': None, '_save_checkpoints_secs': 600, '_session_config': intra_op_parallelism_threads: 1\n",
      ", '_keep_checkpoint_max': 1, '_keep_checkpoint_every_n_hours': 10000, '_log_step_count_steps': 1000, '_train_distribute': None, '_device_fn': None, '_protocol': None, '_eval_distribute': None, '_experimental_distribute': None, '_service': None, '_cluster_spec': <tensorflow.python.training.server_lib.ClusterSpec object at 0x7f02e8400cd0>, '_task_type': 'worker', '_task_id': 0, '_global_id_in_cluster': 0, '_master': '', '_evaluation_master': '', '_is_chief': True, '_num_ps_replicas': 0, '_num_worker_replicas': 1}\n",
      "One train episode equals 50 normal epochs and 1 penalty epoch.\n",
      "Training complete. Evaluating...\n",
      "WARNING:tensorflow:From /home/kxu9/NN/env37/lib/python3.7/site-packages/tensorflow/python/framework/op_def_library.py:263: colocate_with (from tensorflow.python.framework.ops) is deprecated and will be removed in a future version.\n",
      "Instructions for updating:\n",
      "Colocations handled automatically by placer.\n",
      "INFO:tensorflow:Calling model_fn.\n",
      "WARNING:tensorflow:From /home/kxu9/NN/EQL_Tensorflow/utils.py:52: div (from tensorflow.python.ops.math_ops) is deprecated and will be removed in a future version.\n",
      "Instructions for updating:\n",
      "Deprecated in favor of operator or tf.math.divide.\n",
      "\n",
      "WARNING: The TensorFlow contrib module will not be included in TensorFlow 2.0.\n",
      "For more information, please see:\n",
      "  * https://github.com/tensorflow/community/blob/master/rfcs/20180907-contrib-sunset.md\n",
      "  * https://github.com/tensorflow/addons\n",
      "If you depend on functionality not listed there, please file an issue.\n",
      "\n",
      "WARNING:tensorflow:From /home/kxu9/NN/env37/lib/python3.7/site-packages/tensorflow/python/ops/losses/losses_impl.py:667: to_float (from tensorflow.python.ops.math_ops) is deprecated and will be removed in a future version.\n",
      "Instructions for updating:\n",
      "Use tf.cast instead.\n",
      "INFO:tensorflow:Done calling model_fn.\n",
      "INFO:tensorflow:Starting evaluation at 2022-06-09T00:09:16Z\n",
      "INFO:tensorflow:Graph was finalized.\n",
      "2022-06-08 17:09:16.308516: I tensorflow/core/platform/cpu_feature_guard.cc:141] Your CPU supports instructions that this TensorFlow binary was not compiled to use: AVX2 FMA\n",
      "2022-06-08 17:09:16.311647: I tensorflow/core/platform/profile_utils/cpu_utils.cc:94] CPU Frequency: 1799995000 Hz\n",
      "2022-06-08 17:09:16.313034: I tensorflow/compiler/xla/service/service.cc:150] XLA service 0x39f4d20 executing computations on platform Host. Devices:\n",
      "2022-06-08 17:09:16.313100: I tensorflow/compiler/xla/service/service.cc:158]   StreamExecutor device (0): <undefined>, <undefined>\n",
      "WARNING:tensorflow:From /home/kxu9/NN/env37/lib/python3.7/site-packages/tensorflow/python/training/saver.py:1266: checkpoint_exists (from tensorflow.python.training.checkpoint_management) is deprecated and will be removed in a future version.\n",
      "Instructions for updating:\n",
      "Use standard file APIs to check for files with this prefix.\n",
      "INFO:tensorflow:Restoring parameters from results/1/model.ckpt-574200\n",
      "INFO:tensorflow:Running local_init_op.\n",
      "INFO:tensorflow:Done running local_init_op.\n",
      "INFO:tensorflow:Finished evaluation at 2022-06-09-00:09:17\n",
      "INFO:tensorflow:Saving dict for global step 574200: eval_accuracy = 1.0, global_step = 574200, loss = 0.00582931\n",
      "INFO:tensorflow:Saving 'checkpoint_path' summary for global step 574200: results/1/model.ckpt-574200\n",
      "INFO:tensorflow:Calling model_fn.\n",
      "INFO:tensorflow:Done calling model_fn.\n",
      "INFO:tensorflow:Starting evaluation at 2022-06-09T00:09:17Z\n",
      "INFO:tensorflow:Graph was finalized.\n",
      "INFO:tensorflow:Restoring parameters from results/1/model.ckpt-574200\n",
      "INFO:tensorflow:Running local_init_op.\n",
      "INFO:tensorflow:Done running local_init_op.\n",
      "INFO:tensorflow:Finished evaluation at 2022-06-09-00:09:17\n",
      "INFO:tensorflow:Saving dict for global step 574200: eval_accuracy = 0.6706, global_step = 574200, loss = 0.02491472\n",
      "INFO:tensorflow:Saving 'checkpoint_path' summary for global step 574200: results/1/model.ckpt-574200\n",
      "Model evaluated. Results:\n",
      " {'val_error': 0.00582931, 'complexity': 4, 'extr_error': 0.02491472, 'id': 1}\n"
     ]
    }
   ],
   "source": [
    "!python3 train.py '{\"train_val_file\": \"data/F1data_train_val\", \"test_file\": \"data/F1data_test\"}'"
   ]
  },
  {
   "cell_type": "code",
   "execution_count": 46,
   "metadata": {},
   "outputs": [
    {
     "name": "stdout",
     "output_type": "stream",
     "text": [
      "/home/kxu9/NN/env37/lib/python3.7/site-packages/tensorflow/python/framework/dtypes.py:526: FutureWarning: Passing (type, 1) or '1type' as a synonym of type is deprecated; in a future version of numpy, it will be understood as (type, (1,)) / '(1,)type'.\n",
      "  _np_qint8 = np.dtype([(\"qint8\", np.int8, 1)])\n",
      "/home/kxu9/NN/env37/lib/python3.7/site-packages/tensorflow/python/framework/dtypes.py:527: FutureWarning: Passing (type, 1) or '1type' as a synonym of type is deprecated; in a future version of numpy, it will be understood as (type, (1,)) / '(1,)type'.\n",
      "  _np_quint8 = np.dtype([(\"quint8\", np.uint8, 1)])\n",
      "/home/kxu9/NN/env37/lib/python3.7/site-packages/tensorflow/python/framework/dtypes.py:528: FutureWarning: Passing (type, 1) or '1type' as a synonym of type is deprecated; in a future version of numpy, it will be understood as (type, (1,)) / '(1,)type'.\n",
      "  _np_qint16 = np.dtype([(\"qint16\", np.int16, 1)])\n",
      "/home/kxu9/NN/env37/lib/python3.7/site-packages/tensorflow/python/framework/dtypes.py:529: FutureWarning: Passing (type, 1) or '1type' as a synonym of type is deprecated; in a future version of numpy, it will be understood as (type, (1,)) / '(1,)type'.\n",
      "  _np_quint16 = np.dtype([(\"quint16\", np.uint16, 1)])\n",
      "/home/kxu9/NN/env37/lib/python3.7/site-packages/tensorflow/python/framework/dtypes.py:530: FutureWarning: Passing (type, 1) or '1type' as a synonym of type is deprecated; in a future version of numpy, it will be understood as (type, (1,)) / '(1,)type'.\n",
      "  _np_qint32 = np.dtype([(\"qint32\", np.int32, 1)])\n",
      "/home/kxu9/NN/env37/lib/python3.7/site-packages/tensorflow/python/framework/dtypes.py:535: FutureWarning: Passing (type, 1) or '1type' as a synonym of type is deprecated; in a future version of numpy, it will be understood as (type, (1,)) / '(1,)type'.\n",
      "  np_resource = np.dtype([(\"resource\", np.ubyte, 1)])\n",
      "INFO:tensorflow:Using config: {'_model_dir': 'results/1', '_tf_random_seed': None, '_save_summary_steps': 1000, '_save_checkpoints_steps': None, '_save_checkpoints_secs': 600, '_session_config': intra_op_parallelism_threads: 1\n",
      ", '_keep_checkpoint_max': 1, '_keep_checkpoint_every_n_hours': 10000, '_log_step_count_steps': 1000, '_train_distribute': None, '_device_fn': None, '_protocol': None, '_eval_distribute': None, '_experimental_distribute': None, '_service': None, '_cluster_spec': <tensorflow.python.training.server_lib.ClusterSpec object at 0x7f9bef0c8710>, '_task_type': 'worker', '_task_id': 0, '_global_id_in_cluster': 0, '_master': '', '_evaluation_master': '', '_is_chief': True, '_num_ps_replicas': 0, '_num_worker_replicas': 1}\n",
      "One train episode equals 50 normal epochs and 1 penalty epoch.\n",
      "Training complete. Evaluating...\n",
      "WARNING:tensorflow:From /home/kxu9/NN/env37/lib/python3.7/site-packages/tensorflow/python/framework/op_def_library.py:263: colocate_with (from tensorflow.python.framework.ops) is deprecated and will be removed in a future version.\n",
      "Instructions for updating:\n",
      "Colocations handled automatically by placer.\n",
      "INFO:tensorflow:Calling model_fn.\n",
      "WARNING:tensorflow:From /home/kxu9/NN/EQL_Tensorflow/utils.py:52: div (from tensorflow.python.ops.math_ops) is deprecated and will be removed in a future version.\n",
      "Instructions for updating:\n",
      "Deprecated in favor of operator or tf.math.divide.\n",
      "\n",
      "WARNING: The TensorFlow contrib module will not be included in TensorFlow 2.0.\n",
      "For more information, please see:\n",
      "  * https://github.com/tensorflow/community/blob/master/rfcs/20180907-contrib-sunset.md\n",
      "  * https://github.com/tensorflow/addons\n",
      "If you depend on functionality not listed there, please file an issue.\n",
      "\n",
      "WARNING:tensorflow:From /home/kxu9/NN/env37/lib/python3.7/site-packages/tensorflow/python/ops/losses/losses_impl.py:667: to_float (from tensorflow.python.ops.math_ops) is deprecated and will be removed in a future version.\n",
      "Instructions for updating:\n",
      "Use tf.cast instead.\n",
      "INFO:tensorflow:Done calling model_fn.\n",
      "INFO:tensorflow:Starting evaluation at 2022-06-09T00:07:20Z\n",
      "INFO:tensorflow:Graph was finalized.\n",
      "2022-06-08 17:07:20.401518: I tensorflow/core/platform/cpu_feature_guard.cc:141] Your CPU supports instructions that this TensorFlow binary was not compiled to use: AVX2 FMA\n",
      "2022-06-08 17:07:20.405010: I tensorflow/core/platform/profile_utils/cpu_utils.cc:94] CPU Frequency: 1799995000 Hz\n",
      "2022-06-08 17:07:20.406176: I tensorflow/compiler/xla/service/service.cc:150] XLA service 0x477e720 executing computations on platform Host. Devices:\n",
      "2022-06-08 17:07:20.406228: I tensorflow/compiler/xla/service/service.cc:158]   StreamExecutor device (0): <undefined>, <undefined>\n",
      "WARNING:tensorflow:From /home/kxu9/NN/env37/lib/python3.7/site-packages/tensorflow/python/training/saver.py:1266: checkpoint_exists (from tensorflow.python.training.checkpoint_management) is deprecated and will be removed in a future version.\n",
      "Instructions for updating:\n",
      "Use standard file APIs to check for files with this prefix.\n",
      "INFO:tensorflow:Restoring parameters from results/1/model.ckpt-574200\n",
      "2022-06-08 17:07:20.435129: W tensorflow/core/framework/op_kernel.cc:1401] OP_REQUIRES failed at save_restore_v2_ops.cc:184 : Not found: Key dense_2/bias not found in checkpoint\n",
      "Traceback (most recent call last):\n",
      "  File \"/home/kxu9/NN/env37/lib/python3.7/site-packages/tensorflow/python/client/session.py\", line 1334, in _do_call\n",
      "    return fn(*args)\n",
      "  File \"/home/kxu9/NN/env37/lib/python3.7/site-packages/tensorflow/python/client/session.py\", line 1319, in _run_fn\n",
      "    options, feed_dict, fetch_list, target_list, run_metadata)\n",
      "  File \"/home/kxu9/NN/env37/lib/python3.7/site-packages/tensorflow/python/client/session.py\", line 1407, in _call_tf_sessionrun\n",
      "    run_metadata)\n",
      "tensorflow.python.framework.errors_impl.NotFoundError: Key dense_2/bias not found in checkpoint\n",
      "\t [[{{node save/RestoreV2}}]]\n",
      "\n",
      "During handling of the above exception, another exception occurred:\n",
      "\n",
      "Traceback (most recent call last):\n",
      "  File \"/home/kxu9/NN/env37/lib/python3.7/site-packages/tensorflow/python/training/saver.py\", line 1276, in restore\n",
      "    {self.saver_def.filename_tensor_name: save_path})\n",
      "  File \"/home/kxu9/NN/env37/lib/python3.7/site-packages/tensorflow/python/client/session.py\", line 929, in run\n",
      "    run_metadata_ptr)\n",
      "  File \"/home/kxu9/NN/env37/lib/python3.7/site-packages/tensorflow/python/client/session.py\", line 1152, in _run\n",
      "    feed_dict_tensor, options, run_metadata)\n",
      "  File \"/home/kxu9/NN/env37/lib/python3.7/site-packages/tensorflow/python/client/session.py\", line 1328, in _do_run\n",
      "    run_metadata)\n",
      "  File \"/home/kxu9/NN/env37/lib/python3.7/site-packages/tensorflow/python/client/session.py\", line 1348, in _do_call\n",
      "    raise type(e)(node_def, op, message)\n",
      "tensorflow.python.framework.errors_impl.NotFoundError: Key dense_2/bias not found in checkpoint\n",
      "\t [[node save/RestoreV2 (defined at /home/kxu9/NN/env37/lib/python3.7/site-packages/tensorflow_estimator/python/estimator/estimator.py:1537) ]]\n",
      "\n",
      "Caused by op 'save/RestoreV2', defined at:\n",
      "  File \"train.py\", line 122, in <module>\n",
      "    val_results = eqlearner.evaluate(input_fn=val_input, name='validation', hooks=[evaluation_hook])\n",
      "  File \"/home/kxu9/NN/env37/lib/python3.7/site-packages/tensorflow_estimator/python/estimator/estimator.py\", line 469, in evaluate\n",
      "    name=name)\n",
      "  File \"/home/kxu9/NN/env37/lib/python3.7/site-packages/tensorflow_estimator/python/estimator/estimator.py\", line 511, in _actual_eval\n",
      "    return _evaluate()\n",
      "  File \"/home/kxu9/NN/env37/lib/python3.7/site-packages/tensorflow_estimator/python/estimator/estimator.py\", line 500, in _evaluate\n",
      "    output_dir=self.eval_dir(name))\n",
      "  File \"/home/kxu9/NN/env37/lib/python3.7/site-packages/tensorflow_estimator/python/estimator/estimator.py\", line 1537, in _evaluate_run\n",
      "    config=self._session_config)\n",
      "  File \"/home/kxu9/NN/env37/lib/python3.7/site-packages/tensorflow/python/training/evaluation.py\", line 271, in _evaluate_once\n",
      "    session_creator=session_creator, hooks=hooks) as session:\n",
      "  File \"/home/kxu9/NN/env37/lib/python3.7/site-packages/tensorflow/python/training/monitored_session.py\", line 934, in __init__\n",
      "    stop_grace_period_secs=stop_grace_period_secs)\n",
      "  File \"/home/kxu9/NN/env37/lib/python3.7/site-packages/tensorflow/python/training/monitored_session.py\", line 648, in __init__\n",
      "    self._sess = _RecoverableSession(self._coordinated_creator)\n",
      "  File \"/home/kxu9/NN/env37/lib/python3.7/site-packages/tensorflow/python/training/monitored_session.py\", line 1122, in __init__\n",
      "    _WrappedSession.__init__(self, self._create_session())\n",
      "  File \"/home/kxu9/NN/env37/lib/python3.7/site-packages/tensorflow/python/training/monitored_session.py\", line 1127, in _create_session\n",
      "    return self._sess_creator.create_session()\n",
      "  File \"/home/kxu9/NN/env37/lib/python3.7/site-packages/tensorflow/python/training/monitored_session.py\", line 805, in create_session\n",
      "    self.tf_sess = self._session_creator.create_session()\n",
      "  File \"/home/kxu9/NN/env37/lib/python3.7/site-packages/tensorflow/python/training/monitored_session.py\", line 562, in create_session\n",
      "    self._scaffold.finalize()\n",
      "  File \"/home/kxu9/NN/env37/lib/python3.7/site-packages/tensorflow/python/training/monitored_session.py\", line 217, in finalize\n",
      "    self._saver = training_saver._get_saver_or_default()  # pylint: disable=protected-access\n",
      "  File \"/home/kxu9/NN/env37/lib/python3.7/site-packages/tensorflow/python/training/saver.py\", line 604, in _get_saver_or_default\n",
      "    saver = Saver(sharded=True, allow_empty=True)\n",
      "  File \"/home/kxu9/NN/env37/lib/python3.7/site-packages/tensorflow/python/training/saver.py\", line 832, in __init__\n",
      "    self.build()\n",
      "  File \"/home/kxu9/NN/env37/lib/python3.7/site-packages/tensorflow/python/training/saver.py\", line 844, in build\n",
      "    self._build(self._filename, build_save=True, build_restore=True)\n",
      "  File \"/home/kxu9/NN/env37/lib/python3.7/site-packages/tensorflow/python/training/saver.py\", line 881, in _build\n",
      "    build_save=build_save, build_restore=build_restore)\n",
      "  File \"/home/kxu9/NN/env37/lib/python3.7/site-packages/tensorflow/python/training/saver.py\", line 507, in _build_internal\n",
      "    restore_sequentially, reshape)\n",
      "  File \"/home/kxu9/NN/env37/lib/python3.7/site-packages/tensorflow/python/training/saver.py\", line 385, in _AddShardedRestoreOps\n",
      "    name=\"restore_shard\"))\n",
      "  File \"/home/kxu9/NN/env37/lib/python3.7/site-packages/tensorflow/python/training/saver.py\", line 332, in _AddRestoreOps\n",
      "    restore_sequentially)\n",
      "  File \"/home/kxu9/NN/env37/lib/python3.7/site-packages/tensorflow/python/training/saver.py\", line 580, in bulk_restore\n",
      "    return io_ops.restore_v2(filename_tensor, names, slices, dtypes)\n",
      "  File \"/home/kxu9/NN/env37/lib/python3.7/site-packages/tensorflow/python/ops/gen_io_ops.py\", line 1572, in restore_v2\n",
      "    name=name)\n",
      "  File \"/home/kxu9/NN/env37/lib/python3.7/site-packages/tensorflow/python/framework/op_def_library.py\", line 788, in _apply_op_helper\n",
      "    op_def=op_def)\n",
      "  File \"/home/kxu9/NN/env37/lib/python3.7/site-packages/tensorflow/python/util/deprecation.py\", line 507, in new_func\n",
      "    return func(*args, **kwargs)\n",
      "  File \"/home/kxu9/NN/env37/lib/python3.7/site-packages/tensorflow/python/framework/ops.py\", line 3300, in create_op\n",
      "    op_def=op_def)\n",
      "  File \"/home/kxu9/NN/env37/lib/python3.7/site-packages/tensorflow/python/framework/ops.py\", line 1801, in __init__\n",
      "    self._traceback = tf_stack.extract_stack()\n",
      "\n",
      "NotFoundError (see above for traceback): Key dense_2/bias not found in checkpoint\n",
      "\t [[node save/RestoreV2 (defined at /home/kxu9/NN/env37/lib/python3.7/site-packages/tensorflow_estimator/python/estimator/estimator.py:1537) ]]\n",
      "\n",
      "\n",
      "During handling of the above exception, another exception occurred:\n",
      "\n",
      "Traceback (most recent call last):\n",
      "  File \"/home/kxu9/NN/env37/lib/python3.7/site-packages/tensorflow/python/training/saver.py\", line 1286, in restore\n",
      "    names_to_keys = object_graph_key_mapping(save_path)\n",
      "  File \"/home/kxu9/NN/env37/lib/python3.7/site-packages/tensorflow/python/training/saver.py\", line 1591, in object_graph_key_mapping\n",
      "    checkpointable.OBJECT_GRAPH_PROTO_KEY)\n",
      "  File \"/home/kxu9/NN/env37/lib/python3.7/site-packages/tensorflow/python/pywrap_tensorflow_internal.py\", line 370, in get_tensor\n",
      "    status)\n",
      "  File \"/home/kxu9/NN/env37/lib/python3.7/site-packages/tensorflow/python/framework/errors_impl.py\", line 528, in __exit__\n",
      "    c_api.TF_GetCode(self.status.status))\n",
      "tensorflow.python.framework.errors_impl.NotFoundError: Key _CHECKPOINTABLE_OBJECT_GRAPH not found in checkpoint\n",
      "\n",
      "During handling of the above exception, another exception occurred:\n",
      "\n",
      "Traceback (most recent call last):\n",
      "  File \"train.py\", line 122, in <module>\n",
      "    val_results = eqlearner.evaluate(input_fn=val_input, name='validation', hooks=[evaluation_hook])\n",
      "  File \"/home/kxu9/NN/env37/lib/python3.7/site-packages/tensorflow_estimator/python/estimator/estimator.py\", line 469, in evaluate\n",
      "    name=name)\n",
      "  File \"/home/kxu9/NN/env37/lib/python3.7/site-packages/tensorflow_estimator/python/estimator/estimator.py\", line 511, in _actual_eval\n",
      "    return _evaluate()\n",
      "  File \"/home/kxu9/NN/env37/lib/python3.7/site-packages/tensorflow_estimator/python/estimator/estimator.py\", line 500, in _evaluate\n",
      "    output_dir=self.eval_dir(name))\n",
      "  File \"/home/kxu9/NN/env37/lib/python3.7/site-packages/tensorflow_estimator/python/estimator/estimator.py\", line 1537, in _evaluate_run\n",
      "    config=self._session_config)\n",
      "  File \"/home/kxu9/NN/env37/lib/python3.7/site-packages/tensorflow/python/training/evaluation.py\", line 271, in _evaluate_once\n",
      "    session_creator=session_creator, hooks=hooks) as session:\n",
      "  File \"/home/kxu9/NN/env37/lib/python3.7/site-packages/tensorflow/python/training/monitored_session.py\", line 934, in __init__\n",
      "    stop_grace_period_secs=stop_grace_period_secs)\n",
      "  File \"/home/kxu9/NN/env37/lib/python3.7/site-packages/tensorflow/python/training/monitored_session.py\", line 648, in __init__\n",
      "    self._sess = _RecoverableSession(self._coordinated_creator)\n",
      "  File \"/home/kxu9/NN/env37/lib/python3.7/site-packages/tensorflow/python/training/monitored_session.py\", line 1122, in __init__\n",
      "    _WrappedSession.__init__(self, self._create_session())\n",
      "  File \"/home/kxu9/NN/env37/lib/python3.7/site-packages/tensorflow/python/training/monitored_session.py\", line 1127, in _create_session\n",
      "    return self._sess_creator.create_session()\n",
      "  File \"/home/kxu9/NN/env37/lib/python3.7/site-packages/tensorflow/python/training/monitored_session.py\", line 805, in create_session\n",
      "    self.tf_sess = self._session_creator.create_session()\n",
      "  File \"/home/kxu9/NN/env37/lib/python3.7/site-packages/tensorflow/python/training/monitored_session.py\", line 571, in create_session\n",
      "    init_fn=self._scaffold.init_fn)\n",
      "  File \"/home/kxu9/NN/env37/lib/python3.7/site-packages/tensorflow/python/training/session_manager.py\", line 281, in prepare_session\n",
      "    config=config)\n",
      "  File \"/home/kxu9/NN/env37/lib/python3.7/site-packages/tensorflow/python/training/session_manager.py\", line 195, in _restore_checkpoint\n",
      "    saver.restore(sess, checkpoint_filename_with_path)\n",
      "  File \"/home/kxu9/NN/env37/lib/python3.7/site-packages/tensorflow/python/training/saver.py\", line 1292, in restore\n",
      "    err, \"a Variable name or other graph key that is missing\")\n",
      "tensorflow.python.framework.errors_impl.NotFoundError: Restoring from checkpoint failed. This is most likely due to a Variable name or other graph key that is missing from the checkpoint. Please ensure that you have not altered the graph expected based on the checkpoint. Original error:\n",
      "\n",
      "Key dense_2/bias not found in checkpoint\n",
      "\t [[node save/RestoreV2 (defined at /home/kxu9/NN/env37/lib/python3.7/site-packages/tensorflow_estimator/python/estimator/estimator.py:1537) ]]\n",
      "\n",
      "Caused by op 'save/RestoreV2', defined at:\n",
      "  File \"train.py\", line 122, in <module>\n",
      "    val_results = eqlearner.evaluate(input_fn=val_input, name='validation', hooks=[evaluation_hook])\n",
      "  File \"/home/kxu9/NN/env37/lib/python3.7/site-packages/tensorflow_estimator/python/estimator/estimator.py\", line 469, in evaluate\n",
      "    name=name)\n",
      "  File \"/home/kxu9/NN/env37/lib/python3.7/site-packages/tensorflow_estimator/python/estimator/estimator.py\", line 511, in _actual_eval\n",
      "    return _evaluate()\n",
      "  File \"/home/kxu9/NN/env37/lib/python3.7/site-packages/tensorflow_estimator/python/estimator/estimator.py\", line 500, in _evaluate\n",
      "    output_dir=self.eval_dir(name))\n",
      "  File \"/home/kxu9/NN/env37/lib/python3.7/site-packages/tensorflow_estimator/python/estimator/estimator.py\", line 1537, in _evaluate_run\n",
      "    config=self._session_config)\n",
      "  File \"/home/kxu9/NN/env37/lib/python3.7/site-packages/tensorflow/python/training/evaluation.py\", line 271, in _evaluate_once\n",
      "    session_creator=session_creator, hooks=hooks) as session:\n",
      "  File \"/home/kxu9/NN/env37/lib/python3.7/site-packages/tensorflow/python/training/monitored_session.py\", line 934, in __init__\n",
      "    stop_grace_period_secs=stop_grace_period_secs)\n",
      "  File \"/home/kxu9/NN/env37/lib/python3.7/site-packages/tensorflow/python/training/monitored_session.py\", line 648, in __init__\n",
      "    self._sess = _RecoverableSession(self._coordinated_creator)\n",
      "  File \"/home/kxu9/NN/env37/lib/python3.7/site-packages/tensorflow/python/training/monitored_session.py\", line 1122, in __init__\n",
      "    _WrappedSession.__init__(self, self._create_session())\n",
      "  File \"/home/kxu9/NN/env37/lib/python3.7/site-packages/tensorflow/python/training/monitored_session.py\", line 1127, in _create_session\n",
      "    return self._sess_creator.create_session()\n",
      "  File \"/home/kxu9/NN/env37/lib/python3.7/site-packages/tensorflow/python/training/monitored_session.py\", line 805, in create_session\n",
      "    self.tf_sess = self._session_creator.create_session()\n",
      "  File \"/home/kxu9/NN/env37/lib/python3.7/site-packages/tensorflow/python/training/monitored_session.py\", line 562, in create_session\n",
      "    self._scaffold.finalize()\n",
      "  File \"/home/kxu9/NN/env37/lib/python3.7/site-packages/tensorflow/python/training/monitored_session.py\", line 217, in finalize\n",
      "    self._saver = training_saver._get_saver_or_default()  # pylint: disable=protected-access\n",
      "  File \"/home/kxu9/NN/env37/lib/python3.7/site-packages/tensorflow/python/training/saver.py\", line 604, in _get_saver_or_default\n",
      "    saver = Saver(sharded=True, allow_empty=True)\n",
      "  File \"/home/kxu9/NN/env37/lib/python3.7/site-packages/tensorflow/python/training/saver.py\", line 832, in __init__\n",
      "    self.build()\n",
      "  File \"/home/kxu9/NN/env37/lib/python3.7/site-packages/tensorflow/python/training/saver.py\", line 844, in build\n",
      "    self._build(self._filename, build_save=True, build_restore=True)\n",
      "  File \"/home/kxu9/NN/env37/lib/python3.7/site-packages/tensorflow/python/training/saver.py\", line 881, in _build\n",
      "    build_save=build_save, build_restore=build_restore)\n",
      "  File \"/home/kxu9/NN/env37/lib/python3.7/site-packages/tensorflow/python/training/saver.py\", line 507, in _build_internal\n",
      "    restore_sequentially, reshape)\n",
      "  File \"/home/kxu9/NN/env37/lib/python3.7/site-packages/tensorflow/python/training/saver.py\", line 385, in _AddShardedRestoreOps\n",
      "    name=\"restore_shard\"))\n",
      "  File \"/home/kxu9/NN/env37/lib/python3.7/site-packages/tensorflow/python/training/saver.py\", line 332, in _AddRestoreOps\n",
      "    restore_sequentially)\n",
      "  File \"/home/kxu9/NN/env37/lib/python3.7/site-packages/tensorflow/python/training/saver.py\", line 580, in bulk_restore\n",
      "    return io_ops.restore_v2(filename_tensor, names, slices, dtypes)\n",
      "  File \"/home/kxu9/NN/env37/lib/python3.7/site-packages/tensorflow/python/ops/gen_io_ops.py\", line 1572, in restore_v2\n",
      "    name=name)\n",
      "  File \"/home/kxu9/NN/env37/lib/python3.7/site-packages/tensorflow/python/framework/op_def_library.py\", line 788, in _apply_op_helper\n",
      "    op_def=op_def)\n",
      "  File \"/home/kxu9/NN/env37/lib/python3.7/site-packages/tensorflow/python/util/deprecation.py\", line 507, in new_func\n",
      "    return func(*args, **kwargs)\n",
      "  File \"/home/kxu9/NN/env37/lib/python3.7/site-packages/tensorflow/python/framework/ops.py\", line 3300, in create_op\n",
      "    op_def=op_def)\n",
      "  File \"/home/kxu9/NN/env37/lib/python3.7/site-packages/tensorflow/python/framework/ops.py\", line 1801, in __init__\n",
      "    self._traceback = tf_stack.extract_stack()\n",
      "\n",
      "NotFoundError (see above for traceback): Restoring from checkpoint failed. This is most likely due to a Variable name or other graph key that is missing from the checkpoint. Please ensure that you have not altered the graph expected based on the checkpoint. Original error:\n",
      "\n",
      "Key dense_2/bias not found in checkpoint\n",
      "\t [[node save/RestoreV2 (defined at /home/kxu9/NN/env37/lib/python3.7/site-packages/tensorflow_estimator/python/estimator/estimator.py:1537) ]]\n",
      "\n"
     ]
    }
   ],
   "source": [
    "!python3 train.py '{\"train_val_file\": \"data/F1data_train_val\", \"test_file\": \"data/F1data_test\", \"num_h_layers\": 4}'"
   ]
  }
 ],
 "metadata": {
  "interpreter": {
   "hash": "b98b1176f2a516be0909bbc9c7d7cbb345a83d8e58bdbb72445f08ea4e04544c"
  },
  "kernelspec": {
   "display_name": "Python 3.7.13 ('env37')",
   "language": "python",
   "name": "python3"
  },
  "language_info": {
   "codemirror_mode": {
    "name": "ipython",
    "version": 3
   },
   "file_extension": ".py",
   "mimetype": "text/x-python",
   "name": "python",
   "nbconvert_exporter": "python",
   "pygments_lexer": "ipython3",
   "version": "3.7.13"
  },
  "orig_nbformat": 4
 },
 "nbformat": 4,
 "nbformat_minor": 2
}
